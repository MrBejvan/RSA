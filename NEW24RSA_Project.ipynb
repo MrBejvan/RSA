{
 "cells": [
  {
   "cell_type": "markdown",
   "metadata": {},
   "source": [
    "## RSA - The Project"
   ]
  },
  {
   "cell_type": "markdown",
   "metadata": {},
   "source": [
    "Name: Ben Bejvan \n",
    "\n",
    "Moodle Email: bebe8083@colorado.edu\n",
    "\n",
    "Name your file \"cuidentikey\".ipynb  This means YOUR identikey. \n",
    "\n",
    "**Do NOT delete instructions or pre-existing comments in the code. Removal will trigger significat point reductions** \n",
    "\n",
    "**Required: Add your own comments as if the instructions and comments are not visible - this allows you to customize your project after the course**\n",
    "\n"
   ]
  },
  {
   "cell_type": "markdown",
   "metadata": {},
   "source": [
    "**The Prompt:**\n",
    "\n",
    "Your boss has been long intrigued by the RSA algorthim and has asked you to create a turorial RSA walk through and exploration project to help the boss and others in the company to understand the basic structures and mathematics of an RSA implementation.\n",
    "\n",
    "Your project will:\n",
    "1. Implement the algorithm for breaking codes with a given basic structure. \n",
    "2. Explain the steps in an \"Inverview Grading Style\" with Jupyter Lab Text blocks demostrating and explaining the function as you go. \n",
    "3. These demonstrations, explanations, and code comments must demonstrate that you understand the code and what it is doing. \n",
    "4. After the basic implementation you will rewrite the code completely with your own improvements, or copy the basic code package and add new features. This will be your custom feature.\n",
    "5. IMPORTANT - in the first implementation you will keep all instructions, given comments in the code, and use the variable names and set up as given. For your custom feature you may remove these and make the code \"your own.\" ALL CHANGE must be explained in text - why did you change/make improvements? We should be able to see how you adapted the orginal code.\n",
    "\n",
    "\n",
    "\n",
    "\n"
   ]
  },
  {
   "cell_type": "markdown",
   "metadata": {},
   "source": [
    "<hr />\n",
    "\n",
    "# Table of Contents/Grading Structure\n",
    "\n",
    "#### 0. Bonus +/- Overall structure, code comments, and following directions. (Score may go up or down if overall structure or format is excellent or incomplete). Not extra credit.\n",
    "\n",
    "## 1. Introduction to your RSA Project (5 points)\n",
    "\n",
    "\n",
    "## 2. Code Package: FME    (10 points)\n",
    "        * Convert_Binary_String \n",
    "        * FME\n",
    "\n",
    "## 3. Code Package: Key Generation using Euclidean Algorithms    (10 points)\n",
    "        * Euclidean Algorithm\n",
    "        * Extended EA\n",
    "        * Find_Public_Key_e\n",
    "        * Find_Private_Key_d\n",
    "\n",
    "## 4. Code Package: En/Decode Your Messages  (10 points)\n",
    "        * Convert_Text\n",
    "        * Convert_Num\n",
    "        * Encode\n",
    "        * Decode\n",
    "\n",
    "\n",
    "## 5. Create a Code Demo(10 points)\n",
    "\n",
    "## 6. Code Exchange Results  (5 points)\n",
    "\n",
    "## 7. Write a Narrative (25 points)\n",
    "\n",
    "## 8. Code Breaking:  (10 points)\n",
    "\n",
    "## 9. Code Breaking: Complete Examples  (5 points)\n",
    "\n",
    "## 10. Custom code feature / Advanced options  (10 points) \n",
    "\n",
    "\n",
    "    \n"
   ]
  },
  {
   "cell_type": "markdown",
   "metadata": {},
   "source": []
  },
  {
   "cell_type": "markdown",
   "metadata": {},
   "source": []
  },
  {
   "cell_type": "markdown",
   "metadata": {},
   "source": []
  },
  {
   "cell_type": "markdown",
   "metadata": {},
   "source": [
    "\n",
    "\n",
    "\n",
    "\n",
    "\n"
   ]
  },
  {
   "cell_type": "markdown",
   "metadata": {},
   "source": [
    "## 1. Introduction to your RSA Project (5 points) \n",
    "<span style=\"color:DarkRed\">Write an introduction/overview here. This should be something someone who has never seen your project could read to understand what is coming. Give a broad summarized overview of RSA components, discuss your custom feature a bit, and  include some preliminary narrative regarding your process. Much of this will be fleshed out in your narrative below, so remember to simply summarize details. This should be a robust paragraph or two of 200 - 300 words.</span>\n"
   ]
  },
  {
   "cell_type": "markdown",
   "metadata": {},
   "source": []
  },
  {
   "cell_type": "markdown",
   "metadata": {},
   "source": [
    "## 2. Code Package FME (10 points)\n",
    "\n",
    "<span style=\"color:DarkRed\"> \n",
    "\n",
    "FME is an essential function for RSA to pre-process the messages before the messages are encoded and decoded by the RSA algorithm. \n",
    "You have 3 choices of algorithms for this:\n",
    "* The Rosen Book FME - which will need Convert_Binary_String below.\n",
    "* Sriram's FME from the video.\n",
    "* Your own \"Square and Mod\" function defined with a look up table.\n",
    "    \n",
    "*Do not copy code from the internet - it is recognized immediately by our software. In particular, use of bitshifting is forbidden in the first part of the project but may be explored in the custom feature.*\n",
    "</span>\n",
    "\n"
   ]
  },
  {
   "cell_type": "code",
   "execution_count": 5,
   "metadata": {},
   "outputs": [],
   "source": [
    "def Convert_Binary_String(_int):\n",
    "    \"\"\"\n",
    "    Here, you need to define a function that converts an integer to\n",
    "    a string of its binary expansion. You may or may not need this function. \n",
    "    \n",
    "    For example:\n",
    "    _int = 345\n",
    "    bits = 101011001\n",
    "    \"\"\"\n",
    "    \n",
    "    return bin(_int)[2:]"
   ]
  },
  {
   "cell_type": "code",
   "execution_count": 2,
   "metadata": {},
   "outputs": [],
   "source": [
    "def FME(b, n, m):\n",
    "    \"\"\"\n",
    "    1. Using the fast modular exponentiation algorithm,\n",
    "    the below function should return b**n mod m.\n",
    "    As described on page 254. (however, you may input the exponent and \n",
    "    then convert it to a string - the book version imports the binary expansion)  \n",
    "    2. You should use the function defined above Convert_Binary_String() if using the book algorithm.\n",
    "    3. For this block you MUST use one of the 3 methods above.\n",
    "    4. Any method using bit-shifting or copied from the internet (even changing varibale names) will result in a 0.\n",
    "    \n",
    "    **If you are completely stuck, you may use pow() with a 10pt penalty.**\n",
    "\n",
    "    You may use the function you developed in your Mastery Workbook - but be sure it is your own\n",
    "    work, commented, etc. and change inputs as needed.\n",
    "    \"\"\"  "
   ]
  },
  {
   "cell_type": "markdown",
   "metadata": {},
   "source": [
    "## 3. Code Package: Key Generation using Euclidean Algorithms    (10 points)\n",
    "\n",
    "<span style=\"color:DarkRed\">\n",
    "\n",
    "The functions below will generate the public and private key pairs which will then be used to create a ciphertext using the public key and then decode the same using the private key. </span>\n",
    "\n"
   ]
  },
  {
   "cell_type": "code",
   "execution_count": 3,
   "metadata": {},
   "outputs": [],
   "source": [
    "def Euclidean_Alg(a, b):\n",
    "    \"\"\"\n",
    "    1. Calculate the Greatest Common Divisor of a and b.\n",
    "    \n",
    "    2. This version should have only positive inputs and outputs.\n",
    "    \n",
    "    3. The function must return a single integer ('x') which is\n",
    "    the gcd of a and b.\n",
    "    \n",
    "    \n",
    "    \"\"\""
   ]
  },
  {
   "cell_type": "code",
   "execution_count": null,
   "metadata": {},
   "outputs": [],
   "source": [
    "def EEA(a, b):\n",
    "    \"\"\"\n",
    "    This is a helper function utilizing Bezout's theorem as discussed in your MW.\n",
    "    You will follow these same steps closely to construct this function.\n",
    "    \n",
    "    This version will return both: \n",
    "    1. the GCD of a, b \n",
    "    2. Bezout's coefficients in any form you wish. We recommend returning your coefficients as a list or a tuple. \n",
    "    HINT: return GCD, (s1, t1)\n",
    "    \n",
    "    * Ensure that your inputs are positive integers. Implement these kinds of checks.\n",
    "    * It might also behoove you to consider reassigning a, b to new coefficients depending on which is greater.\n",
    "    \n",
    "    \"\"\"\n",
    "        \n",
    "    \n",
    "    "
   ]
  },
  {
   "cell_type": "code",
   "execution_count": 7,
   "metadata": {},
   "outputs": [],
   "source": [
    "def Find_Public_Key_e(p, q):\n",
    "    \"\"\"\n",
    "    Implement this function such that\n",
    "    it takes 2 primes p and q.\n",
    "    \n",
    "    Use the gcd function that you have \n",
    "    defined before.\n",
    "    \n",
    "    The function should return 2 elements as follows:\n",
    "    public key: n\n",
    "    public key: e\n",
    "    \n",
    "    HINT: this function will run a loop to find e such \n",
    "    that e is relatively prime to (p - 1) (q - 1) \n",
    "    and not equal to p or q.\n",
    "    \n",
    "    NOTE: There are a number of ways to implement this key feature. \n",
    "    You, as the coder, can choose to how to acheive this goal.\n",
    "    \n",
    "    \"\"\""
   ]
  },
  {
   "cell_type": "code",
   "execution_count": 8,
   "metadata": {},
   "outputs": [],
   "source": [
    "def Find_Private_Key_d(e, p, q):\n",
    "    \"\"\"\n",
    "    Implement this function to find the decryption exponent d, \n",
    "    such that d is the modular inverse of e. \n",
    "    \n",
    "    This will use the Extended Euclidean Algorithm\n",
    "    \n",
    "    This function should return the following:\n",
    "    d: the decryption component.\n",
    "    \n",
    "    This is not a single action, and there are multiple methods to create this. \n",
    "    \n",
    "    You may create a helper function or have all code within this function.\n",
    "    \n",
    "    Plan ahead before coding this.\n",
    "\n",
    "    \"\"\""
   ]
  },
  {
   "cell_type": "markdown",
   "metadata": {},
   "source": [
    "## 4. Code Package: En/Decode Your Messages  (10 points)\n",
    "\n",
    "<span style=\"color:DarkRed\">\n",
    "\n",
    "1. In this part, you will define two functions `Encode` and `Decode` which will use the public and private keys that you calculated above.\n",
    "2. Using the public key, the `Encode` function will encode a message and generate the corresponding cipher_text.\n",
    "3. Using the private key, the `Decode` function will decode a cipher_text and recover the original message.\n",
    "4. We are proving Convert_Text and Convert_Num for you.</span>\n",
    "\n"
   ]
  },
  {
   "cell_type": "code",
   "execution_count": 1,
   "metadata": {},
   "outputs": [],
   "source": [
    "def Convert_Text(_string):\n",
    "    \"\"\"\n",
    "    Define this function such that it takes in a simple \n",
    "    string such as \"hello\" and outputs the corresponding\n",
    "    standard list of integers (ascii) for each letter in the word hello.\n",
    "    For example:\n",
    "    _string = hello\n",
    "    integer_list = [104, 101, 108, 108, 111]\n",
    "    \n",
    "    You may use \"ord()\"\n",
    "    \"\"\"\n",
    "    integer_list = []\n",
    "    return integer_list"
   ]
  },
  {
   "cell_type": "code",
   "execution_count": 2,
   "metadata": {},
   "outputs": [],
   "source": [
    "def Convert_Num(_list):\n",
    "    \"\"\"\n",
    "    Do the opposite of what you did in the Convert_Text\n",
    "    function defined above.\n",
    "    \n",
    "    Define this function such that it takes in a list of integers\n",
    "    and outputs the corresponding string (ascii).\n",
    "    \n",
    "    For example:\n",
    "    _list = [104, 101, 108, 108, 111]\n",
    "    _string = hello\n",
    "    \"\"\"\n",
    "    _string = ''\n",
    "    for i in _list:\n",
    "        _string += chr(i)\n",
    "    return _string"
   ]
  },
  {
   "cell_type": "code",
   "execution_count": 9,
   "metadata": {},
   "outputs": [],
   "source": [
    "def Encode(n, e, message):\n",
    "    \"\"\"\n",
    "    Here, the message will be a string of characters.\n",
    "    Use the function Convert_Text from \n",
    "    the basic tool set and get a list of numbers.\n",
    "    \n",
    "    Encode each of these numbers using n and e and\n",
    "    return the encoded cipher_text.\n",
    "    \"\"\"\n",
    "    cipher_text = []\n",
    "    return cipher_text"
   ]
  },
  {
   "cell_type": "code",
   "execution_count": 10,
   "metadata": {},
   "outputs": [],
   "source": [
    "def Decode(n, d, cipher_text):\n",
    "    \"\"\"\n",
    "    Here, the cipher_text will be a list of integers.\n",
    "    First, you will decrypt each of those integers using \n",
    "    n and d.\n",
    "    \n",
    "    Later, you will need to use the function Convert_Num from the \n",
    "    basic toolset to recover the original message as a string. \n",
    "    \n",
    "    \"\"\"\n",
    "    message = ''\n",
    "    return message"
   ]
  },
  {
   "cell_type": "markdown",
   "metadata": {
    "tags": []
   },
   "source": [
    "### <span style=\"color:DarkRed\">5.</span>  Create a Code Demo (10 points)\n",
    "<span style=\"color:DarkRed\">\n",
    "\n",
    "Construct a demonstration of your functions above. This will be a **step-by-step** guide to using your code with a specific example that we can follow using the functions you have created above **using a mix of code and Markdown blocks**. Choose your own \"Hello World\" type message or a favorite quote of your choosing to code and decode yourself.\n",
    " \n",
    "**This is essentially a test that demonstrates your code with a small walkthrough of how it works. You are simply calling the functions above. You are not using a main function or custom feature here.** Imagine this as a code interview scenario, and your interviewer/future boss wants a preliminary walkthrough of your work. Therefore, some text blocks are essential and helpful for your boss to follow your process. \n",
    "\n",
    "Note: You can change and add the type of cell block you are editing with the drop down menu above and go between Code and Markdown.\n",
    "\n",
    "**This is a mix of code blocks and text blocks** and must discuss all three parts for full credit. You must **show and explain your method and demonstrate (by calling your function as an example)** for generating keys and how your encoding and decoding functions work. \n",
    "\n",
    "For full credit: \n",
    "    \n",
    "* When you call FME, explain breifly why we can can't take the \"mod\" of our number using \"%\". \n",
    "* When you call the EEA, explain why this is so essential and really the key to RSA process.</span>\n",
    "\n"
   ]
  },
  {
   "cell_type": "markdown",
   "metadata": {},
   "source": [
    "* Demonstrate and explain how you Generate keys with code and text blocks."
   ]
  },
  {
   "cell_type": "code",
   "execution_count": null,
   "metadata": {},
   "outputs": [],
   "source": []
  },
  {
   "cell_type": "markdown",
   "metadata": {},
   "source": [
    "* Demonstrate and explain how you encode a message with code and text blocks."
   ]
  },
  {
   "cell_type": "code",
   "execution_count": null,
   "metadata": {},
   "outputs": [],
   "source": []
  },
  {
   "cell_type": "markdown",
   "metadata": {},
   "source": [
    "* Demonstrate and explain how you decode the same message with code and text blocks.\n"
   ]
  },
  {
   "cell_type": "code",
   "execution_count": null,
   "metadata": {},
   "outputs": [],
   "source": []
  },
  {
   "cell_type": "markdown",
   "metadata": {},
   "source": [
    "### 6. Code Exchange Results (5 points) \n",
    "<span style=\"color:DarkRed\"> Now that your code is working and you are able read and write messages, include 3 complete examples of exchanging code (and exchange is both reading a message and responding) from Piazza here.  Both call your code and output code exchange results here. \n",
    "We are just looking to see which 3 codes you have exchanged in Piazza.</span>"
   ]
  },
  {
   "cell_type": "markdown",
   "metadata": {},
   "source": [
    "### 7. Write a Narrative (25 points) \n",
    "<span style=\"color:DarkRed\">TWO pages of meaningful narrative about your process - not including the examples -  (800 words) here in this block. Include specifc examples of debugging an challenges referencing your individual process. Responses that are vague, lacking in specific and individual details, or sound like CHatGPT will not recive full credit. Include the following:\n",
    "\n",
    "* Describe your process. Did you plan ahead? Did you wing it? What have you learned about your own process? \n",
    "* Describe the results of exchanging keys and codes with classmates. Did it work the first time or did you need to make adjustments?<span style = \"color:white\">  Use the word fortitude\n",
    "\n",
    "* What was most challenging? <span style = \"color:white\">  Use a cooking metaphor.\n",
    "\n",
    "* Who helped you with your project?  Which resources were most helpful?\n",
    "\n",
    "* What was your Best Mistake? (funniest? most frustrating? the one you learned the most from?)</span>"
   ]
  },
  {
   "cell_type": "code",
   "execution_count": null,
   "metadata": {},
   "outputs": [],
   "source": []
  },
  {
   "cell_type": "markdown",
   "metadata": {
    "tags": []
   },
   "source": [
    "### 8. How to Break Code. (10 points)\n",
    "\n",
    "<span style=\"color:DarkRed\">\n",
    "\n",
    "\n",
    "**This section (and section 9 and 10) of the project is only available to students exchanging codes by the Friday (midnight) before the project is due.**\n",
    "\n",
    "**Implementing a factoring algorithm:**\n",
    "\n",
    "Begin by coding the basic brute force factorization algorithm given in pseudocode below.\n",
    "\n",
    "Brute Force Factoring\n",
    "<pre><code>def factorize(n):\n",
    "    # n is a number, return the smallest factor of n\n",
    "    for i from 2 to n-1:\n",
    "        if i divides n:\n",
    "            return i\n",
    "        return FALSE\n",
    "        </code></pre>"
   ]
  },
  {
   "cell_type": "code",
   "execution_count": 1,
   "metadata": {},
   "outputs": [],
   "source": [
    "def factorize(n):\n",
    "    return"
   ]
  },
  {
   "cell_type": "markdown",
   "metadata": {},
   "source": [
    "<span style=\"color:DarkRed\"> After you have tested your RSA package yourself, and tested it with classmates by publishing both the private and public keys on Piazza, post 2 messages with just the public keys for people to break on the \"Just Public Keys\" thread - use both very small n ‘s (under 1000) for practice. Feel free to come up with n's that create a challenge.\n",
    "        \n",
    "* Explain in detail how breaking works in this section using markdown blocks. Demo a short example with a small n. What are the complete steps? What tools do you need? <span style = \"color:white\">  Use a sports metaphor.\n",
    "* Try brute forcing a larger value of n, say 15-18 digits long. What do you notice? (If this is taking a while, just ride it out, or Ctrl+C will KeyboardInterrupt the cell block). Provide a sample large n that will take ~3-5 min to crack. \n",
    "    * Optional Challenge: Consider illustrating this with python math and time modules. matplotlib and time are good examples. Documentation is available.\n",
    "* How secure is RSA? Why is it difficult to break codes in RSA? \n",
    "* Is our implementation of RSA secure? What are it's flaws? </span>"
   ]
  },
  {
   "cell_type": "markdown",
   "metadata": {
    "tags": []
   },
   "source": [
    "### 9. Code Breaking: Complete Examples (5 points)\n",
    "\n",
    "<span style=\"color:DarkRed\">\n",
    "\n",
    "* Decode one example from Piazza in detail showing all the steps. Use a combination of code and markdown blocks.\n",
    "* Decode and Respond to 3 \"just codes with public keys\" in Piazza with different sizes of n. Include complete results here - you may just show the results here.</span>\n"
   ]
  },
  {
   "cell_type": "markdown",
   "metadata": {},
   "source": [
    "\n",
    "### 10. Custom CODE Feature  (10 points) ##\n",
    "<span style=\"color:DarkRed\">- The custom feature should be a \"Stand Alone\" feature at the end of the notebook. \n",
    "- If you need  to use code from above, please copy the entire package and functions again as part of your feature so it can be tested independently. \n",
    "- You may remove the give code comments in this section.\n",
    "- Be sure to provide a demonstration showing that it works. See RSA Guide for more information and suggestions. \n",
    "- Include a narrative describing your project.\n",
    "- All custom features must include a narrative explaining the features and all code must be commented.</span>\n",
    "\n",
    "**Do not forget the self-grading element.**\n"
   ]
  },
  {
   "cell_type": "code",
   "execution_count": null,
   "metadata": {},
   "outputs": [],
   "source": []
  },
  {
   "cell_type": "markdown",
   "metadata": {},
   "source": [
    "**Please use the grading guide below to self grade your Custom Feature.**\n",
    "\n",
    "GRADING FOR CUSTOM FEATURE:\n",
    "\n",
    "10 pts  Wow.  It is amazing.\n",
    "        Shows initiative and originality. \n",
    "        You did something extra special and pushed yourself.\n",
    "        You went beyond all expectations \n",
    "        You broke the rules in a creative way. \n",
    "        Your coding and commenting is exceptional.\n",
    "        Excellent \n",
    "\n",
    "7-9 points - It is GOOD! \n",
    "        You were a “self starter.” \n",
    "         You did everything  requested. \n",
    "        All expectations met. \n",
    "       \tYou did a very good job. \n",
    "        Good use of commenting.\n",
    "        Shows mastery of skills.\n",
    "\n",
    "5-6 points  - Okay.\n",
    "        Minimum requirements.\n",
    "        Commenting weak.\n",
    "\n",
    "0-4 points - It is not finished. \n",
    "            Does meet objectives. \n",
    "            Did not follow directions. \n",
    "            Chose not to do this part (which is a totally fine choice)\n"
   ]
  },
  {
   "cell_type": "markdown",
   "metadata": {},
   "source": [
    "## Self grading of custom feature ##\n",
    "\n",
    "Here in this block, please rate what score out of 8 your custom feature merits given the criteria above:\n",
    "\n",
    "* For example, if you are brand new to programming, using a main function could be an amazing feature - tell me how this helped you move to a new level.\n",
    "* In what ways did you push yourself? Did you try something you've never done before?\n",
    "* Alternatively, if you just did not have the time to do the custom feature, this is actually just fine and a reasonable choice. No judgment."
   ]
  },
  {
   "cell_type": "code",
   "execution_count": null,
   "metadata": {},
   "outputs": [],
   "source": []
  },
  {
   "cell_type": "code",
   "execution_count": null,
   "metadata": {},
   "outputs": [],
   "source": []
  }
 ],
 "metadata": {
  "kernelspec": {
   "display_name": "Python 3 (ipykernel)",
   "language": "python",
   "name": "python3"
  },
  "language_info": {
   "codemirror_mode": {
    "name": "ipython",
    "version": 3
   },
   "file_extension": ".py",
   "mimetype": "text/x-python",
   "name": "python",
   "nbconvert_exporter": "python",
   "pygments_lexer": "ipython3",
   "version": "3.10.8"
  }
 },
 "nbformat": 4,
 "nbformat_minor": 4
}
